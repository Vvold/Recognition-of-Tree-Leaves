{
 "cells": [
  {
   "cell_type": "markdown",
   "id": "c68b0d4f",
   "metadata": {},
   "source": [
    "# Leaf image classification model"
   ]
  },
  {
   "cell_type": "markdown",
   "id": "fa2416a5",
   "metadata": {},
   "source": [
    "## Import LIbrary"
   ]
  },
  {
   "cell_type": "code",
   "execution_count": 5,
   "id": "d937f5d6",
   "metadata": {},
   "outputs": [],
   "source": [
    "import pandas as pd\n",
    "import numpy as np\n",
    "import pickle\n",
    "\n",
    "from tensorflow.keras.models import load_model\n",
    "from IPython.display import Image\n",
    "from tensorflow.keras.preprocessing import image\n",
    "\n",
    "from tensorflow.keras.models import Sequential\n",
    "from tensorflow.keras.layers import Dense, Dropout\n",
    "from tensorflow.keras import utils\n",
    "\n",
    "import matplotlib.pyplot as plt"
   ]
  },
  {
   "cell_type": "markdown",
   "id": "3e996648",
   "metadata": {},
   "source": [
    "## Import Data"
   ]
  },
  {
   "cell_type": "code",
   "execution_count": 2,
   "id": "3ff71626",
   "metadata": {},
   "outputs": [],
   "source": [
    "with open ('x_train', 'rb') as fp:\n",
    "    x_train = pickle.load(fp)\n",
    "    \n",
    "with open ('y_train', 'rb') as fp:\n",
    "    y_train = pickle.load(fp)"
   ]
  },
  {
   "cell_type": "markdown",
   "id": "e3ec8ea0",
   "metadata": {},
   "source": [
    "### Convert  list `x_train` and `y_train` the sample into `np.array`"
   ]
  },
  {
   "cell_type": "code",
   "execution_count": 3,
   "id": "f6caf44e",
   "metadata": {},
   "outputs": [],
   "source": [
    "x_train = np.array(x_train)\n",
    "y_train = np.array(y_train)\n",
    "\n",
    "y_train = utils.to_categorical(y_train, 5)"
   ]
  },
  {
   "cell_type": "markdown",
   "id": "3c2aff8c",
   "metadata": {},
   "source": [
    "## Model Training"
   ]
  },
  {
   "cell_type": "code",
   "execution_count": 6,
   "id": "9dff9a0f",
   "metadata": {},
   "outputs": [
    {
     "name": "stdout",
     "output_type": "stream",
     "text": [
      "Model: \"sequential_1\"\n",
      "_________________________________________________________________\n",
      " Layer (type)                Output Shape              Param #   \n",
      "=================================================================\n",
      " dense_1 (Dense)             (None, 800)               40141600  \n",
      "                                                                 \n",
      " dropout (Dropout)           (None, 800)               0         \n",
      "                                                                 \n",
      " dense_2 (Dense)             (None, 5)                 4005      \n",
      "                                                                 \n",
      "=================================================================\n",
      "Total params: 40,145,605\n",
      "Trainable params: 40,145,605\n",
      "Non-trainable params: 0\n",
      "_________________________________________________________________\n",
      "None\n"
     ]
    }
   ],
   "source": [
    "# Initializing the Recurrent Neural Network\n",
    "model = Sequential()\n",
    "\n",
    "model.add(Dense(800, input_dim = 50176, activation = \"relu\"))\n",
    "model.add(Dropout(0.2))\n",
    "model.add(Dense(5, activation = \"softmax\"))\n",
    "#compile model\n",
    "model.compile(loss = \"categorical_crossentropy\",\n",
    "optimizer = \"SGD\", metrics = [\"accuracy\"])\n",
    "\n",
    "print(model.summary())"
   ]
  },
  {
   "cell_type": "code",
   "execution_count": 7,
   "id": "31da66c9",
   "metadata": {},
   "outputs": [
    {
     "name": "stdout",
     "output_type": "stream",
     "text": [
      "Epoch 1/40\n",
      "8/8 [==============================] - 2s 143ms/step - loss: 2.9546 - accuracy: 0.1957\n",
      "Epoch 2/40\n",
      "8/8 [==============================] - 1s 156ms/step - loss: 1.3306 - accuracy: 0.4783\n",
      "Epoch 3/40\n",
      "8/8 [==============================] - 1s 144ms/step - loss: 1.2686 - accuracy: 0.4913\n",
      "Epoch 4/40\n",
      "8/8 [==============================] - 1s 162ms/step - loss: 1.2054 - accuracy: 0.5174\n",
      "Epoch 5/40\n",
      "8/8 [==============================] - 1s 165ms/step - loss: 1.1053 - accuracy: 0.5783\n",
      "Epoch 6/40\n",
      "8/8 [==============================] - 1s 146ms/step - loss: 1.0049 - accuracy: 0.6391\n",
      "Epoch 7/40\n",
      "8/8 [==============================] - 1s 146ms/step - loss: 1.0935 - accuracy: 0.5696\n",
      "Epoch 8/40\n",
      "8/8 [==============================] - 1s 135ms/step - loss: 0.9675 - accuracy: 0.6087\n",
      "Epoch 9/40\n",
      "8/8 [==============================] - 1s 138ms/step - loss: 0.9891 - accuracy: 0.6348\n",
      "Epoch 10/40\n",
      "8/8 [==============================] - 1s 137ms/step - loss: 0.8212 - accuracy: 0.6826\n",
      "Epoch 11/40\n",
      "8/8 [==============================] - 1s 146ms/step - loss: 0.7916 - accuracy: 0.7000\n",
      "Epoch 12/40\n",
      "8/8 [==============================] - 1s 137ms/step - loss: 0.7500 - accuracy: 0.7565\n",
      "Epoch 13/40\n",
      "8/8 [==============================] - 1s 138ms/step - loss: 0.7137 - accuracy: 0.7478\n",
      "Epoch 14/40\n",
      "8/8 [==============================] - 1s 142ms/step - loss: 0.6641 - accuracy: 0.8174\n",
      "Epoch 15/40\n",
      "8/8 [==============================] - 1s 142ms/step - loss: 0.7226 - accuracy: 0.7522\n",
      "Epoch 16/40\n",
      "8/8 [==============================] - 1s 138ms/step - loss: 0.6763 - accuracy: 0.7913\n",
      "Epoch 17/40\n",
      "8/8 [==============================] - 1s 138ms/step - loss: 0.5635 - accuracy: 0.8348\n",
      "Epoch 18/40\n",
      "8/8 [==============================] - 1s 138ms/step - loss: 0.5412 - accuracy: 0.8652\n",
      "Epoch 19/40\n",
      "8/8 [==============================] - 1s 138ms/step - loss: 0.6016 - accuracy: 0.8174\n",
      "Epoch 20/40\n",
      "8/8 [==============================] - 1s 137ms/step - loss: 0.5869 - accuracy: 0.8087\n",
      "Epoch 21/40\n",
      "8/8 [==============================] - 1s 163ms/step - loss: 0.5697 - accuracy: 0.8261\n",
      "Epoch 22/40\n",
      "8/8 [==============================] - 1s 162ms/step - loss: 0.7355 - accuracy: 0.7391\n",
      "Epoch 23/40\n",
      "8/8 [==============================] - 1s 178ms/step - loss: 0.5349 - accuracy: 0.8304\n",
      "Epoch 24/40\n",
      "8/8 [==============================] - 1s 148ms/step - loss: 0.4065 - accuracy: 0.9043\n",
      "Epoch 25/40\n",
      "8/8 [==============================] - 1s 144ms/step - loss: 0.4905 - accuracy: 0.8391\n",
      "Epoch 26/40\n",
      "8/8 [==============================] - 1s 138ms/step - loss: 0.3595 - accuracy: 0.9174\n",
      "Epoch 27/40\n",
      "8/8 [==============================] - 1s 177ms/step - loss: 0.3298 - accuracy: 0.9217\n",
      "Epoch 28/40\n",
      "8/8 [==============================] - 1s 147ms/step - loss: 0.3630 - accuracy: 0.9217\n",
      "Epoch 29/40\n",
      "8/8 [==============================] - 1s 175ms/step - loss: 0.3281 - accuracy: 0.9304\n",
      "Epoch 30/40\n",
      "8/8 [==============================] - 1s 139ms/step - loss: 0.3455 - accuracy: 0.9087\n",
      "Epoch 31/40\n",
      "8/8 [==============================] - 1s 139ms/step - loss: 0.2708 - accuracy: 0.9522\n",
      "Epoch 32/40\n",
      "8/8 [==============================] - 1s 141ms/step - loss: 0.3146 - accuracy: 0.9261\n",
      "Epoch 33/40\n",
      "8/8 [==============================] - 1s 139ms/step - loss: 0.2917 - accuracy: 0.9348\n",
      "Epoch 34/40\n",
      "8/8 [==============================] - 1s 151ms/step - loss: 0.2357 - accuracy: 0.9739\n",
      "Epoch 35/40\n",
      "8/8 [==============================] - 1s 151ms/step - loss: 0.2304 - accuracy: 0.9565\n",
      "Epoch 36/40\n",
      "8/8 [==============================] - 1s 144ms/step - loss: 0.2375 - accuracy: 0.9478\n",
      "Epoch 37/40\n",
      "8/8 [==============================] - 1s 182ms/step - loss: 0.1996 - accuracy: 0.9826\n",
      "Epoch 38/40\n",
      "8/8 [==============================] - 2s 181ms/step - loss: 0.1874 - accuracy: 0.9826\n",
      "Epoch 39/40\n",
      "8/8 [==============================] - 1s 148ms/step - loss: 0.1965 - accuracy: 0.9826\n",
      "Epoch 40/40\n",
      "8/8 [==============================] - 1s 140ms/step - loss: 0.1856 - accuracy: 0.9783\n"
     ]
    },
    {
     "data": {
      "text/plain": [
       "<keras.callbacks.History at 0x1248cd437f0>"
      ]
     },
     "execution_count": 7,
     "metadata": {},
     "output_type": "execute_result"
    }
   ],
   "source": [
    "# fit model\n",
    "model.fit(x_train,\n",
    "          y_train,\n",
    "          epochs=40,\n",
    "          verbose=1)"
   ]
  },
  {
   "cell_type": "markdown",
   "id": "6da19378",
   "metadata": {},
   "source": [
    "## Save model"
   ]
  },
  {
   "cell_type": "code",
   "execution_count": null,
   "id": "12b914d6",
   "metadata": {},
   "outputs": [],
   "source": [
    "model.save(\"model.h5\")"
   ]
  },
  {
   "cell_type": "markdown",
   "id": "b991df8a",
   "metadata": {},
   "source": [
    "## Test model"
   ]
  },
  {
   "cell_type": "code",
   "execution_count": 8,
   "id": "5bf07a36",
   "metadata": {},
   "outputs": [],
   "source": [
    "SIZE = 224\n",
    "# read from file\n",
    "with open('class_name_dict', 'rb') as f:\n",
    "    class_name = pickle.load(f)"
   ]
  },
  {
   "cell_type": "code",
   "execution_count": 9,
   "id": "a0ae9d4a",
   "metadata": {},
   "outputs": [],
   "source": [
    "\n",
    "def img_preprocessing (image_path):\n",
    "    # transform the image into shades of gray and reduce the size = SIZE*SIZE\n",
    "    img = image.load_img(image_path, target_size=(SIZE, SIZE), color_mode='grayscale')\n",
    "    #convert the image into an array\n",
    "    img_arr = image.img_to_array(img)\n",
    "    #convert the shape of the array to a flat vector\n",
    "    img_arr = img_arr.reshape(1, SIZE*SIZE)\n",
    "    #invert the image\n",
    "    img_arr = 255 - img_arr\n",
    "    #normalize the image\n",
    "    img_arr /= 255\n",
    "    return img_arr"
   ]
  },
  {
   "cell_type": "code",
   "execution_count": 10,
   "id": "7125cf54",
   "metadata": {},
   "outputs": [
    {
     "data": {
      "image/jpeg": "[encoded data removed]",
      "text/plain": [
       "<IPython.core.display.Image object>"
      ]
     },
     "execution_count": 10,
     "metadata": {},
     "output_type": "execute_result"
    }
   ],
   "source": [
    "img_path = 'test1.jpg'\n",
    "Image(img_path)"
   ]
  },
  {
   "cell_type": "code",
   "execution_count": 11,
   "id": "6c6d16ab",
   "metadata": {},
   "outputs": [],
   "source": [
    "img_test = img_preprocessing(img_path)\n",
    "predictions = model.predict(img_test)"
   ]
  },
  {
   "cell_type": "code",
   "execution_count": 12,
   "id": "f83fca8e",
   "metadata": {},
   "outputs": [
    {
     "data": {
      "text/plain": [
       "array([[0.0661477 , 0.20414919, 0.6292902 , 0.09817863, 0.00223424]],\n",
       "      dtype=float32)"
      ]
     },
     "execution_count": 12,
     "metadata": {},
     "output_type": "execute_result"
    }
   ],
   "source": [
    "predictions"
   ]
  },
  {
   "cell_type": "code",
   "execution_count": 13,
   "id": "d6b4207b",
   "metadata": {},
   "outputs": [
    {
     "name": "stdout",
     "output_type": "stream",
     "text": [
      "Class number: 2\n",
      "Class name: maple\n"
     ]
    }
   ],
   "source": [
    "prediction = np.argmax(predictions)\n",
    "print('Class number:', prediction)\n",
    "print('Class name:', class_name[prediction])"
   ]
  }
 ],
 "metadata": {
  "kernelspec": {
   "display_name": "Python 3",
   "language": "python",
   "name": "python3"
  },
  "language_info": {
   "codemirror_mode": {
    "name": "ipython",
    "version": 3
   },
   "file_extension": ".py",
   "mimetype": "text/x-python",
   "name": "python",
   "nbconvert_exporter": "python",
   "pygments_lexer": "ipython3",
   "version": "3.8.8"
  }
 },
 "nbformat": 4,
 "nbformat_minor": 5
}
